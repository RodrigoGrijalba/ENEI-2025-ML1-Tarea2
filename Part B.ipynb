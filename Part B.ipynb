{
  "nbformat": 4,
  "nbformat_minor": 0,
  "metadata": {
    "colab": {
      "provenance": []
    },
    "kernelspec": {
      "name": "python3",
      "display_name": "Python 3"
    },
    "language_info": {
      "name": "python"
    }
  },
  "cells": [
    {
      "cell_type": "markdown",
      "source": [
        "## Part B. Multiclass Logistic Regression via One-vs-All (OvA)\n",
        "\n",
        "**4. Dataset Use the Wine dataset (from sklearn.datasets import load_wine).**"
      ],
      "metadata": {
        "id": "pKJhpe-6cP2c"
      }
    },
    {
      "cell_type": "code",
      "source": [
        "# There are 3 wine cultivars (classes) with 13 chemical features."
      ],
      "metadata": {
        "id": "FINSonJSl1-e"
      },
      "execution_count": null,
      "outputs": []
    },
    {
      "cell_type": "code",
      "source": [
        "import numpy as np\n",
        "import pandas as pd\n",
        "import matplotlib.pyplot as plt\n",
        "from sklearn.datasets import load_wine\n",
        "from sklearn.preprocessing import StandardScaler\n",
        "from sklearn.metrics import accuracy_score, confusion_matrix,ConfusionMatrixDisplay\n",
        "from sklearn.linear_model import LogisticRegression"
      ],
      "metadata": {
        "id": "ywy5HXHmcOVU"
      },
      "execution_count": 1,
      "outputs": []
    },
    {
      "cell_type": "code",
      "source": [
        "wine = load_wine(as_frame=True)\n",
        "X = wine.data\n",
        "y = wine.target\n",
        "\n",
        "print(f\"Shape of X: {X.shape}\")\n",
        "print(f\"Unique classes: {np.unique(y)}\")"
      ],
      "metadata": {
        "colab": {
          "base_uri": "https://localhost:8080/"
        },
        "id": "7i7BrZYZcOBN",
        "outputId": "3c0f871f-9398-4973-a6c8-d224aaa1e753"
      },
      "execution_count": 2,
      "outputs": [
        {
          "output_type": "stream",
          "name": "stdout",
          "text": [
            "Shape of X: (178, 13)\n",
            "Unique classes: [0 1 2]\n"
          ]
        }
      ]
    },
    {
      "cell_type": "code",
      "source": [
        "# Standardize all features"
      ],
      "metadata": {
        "id": "Qw1Xsqi0mBck"
      },
      "execution_count": null,
      "outputs": []
    },
    {
      "cell_type": "code",
      "source": [
        "scaler = StandardScaler()\n",
        "X_scaled = scaler.fit_transform(X)"
      ],
      "metadata": {
        "id": "xs5K4Ob8c4xu"
      },
      "execution_count": 3,
      "outputs": []
    },
    {
      "cell_type": "code",
      "source": [
        "#Add intercept column"
      ],
      "metadata": {
        "id": "5fgjFrWrmLfN"
      },
      "execution_count": null,
      "outputs": []
    },
    {
      "cell_type": "code",
      "source": [
        "X_scaled = np.c_[np.ones(X_scaled.shape[0]), X_scaled]"
      ],
      "metadata": {
        "id": "ucCoWRiCdDLr"
      },
      "execution_count": 4,
      "outputs": []
    },
    {
      "cell_type": "code",
      "source": [
        "# Split. Use train/test\n",
        "from sklearn.model_selection import train_test_split\n",
        "X_train, X_test, y_train, y_test = train_test_split(X_scaled, y, test_size=0.3, random_state=20, stratify=y)"
      ],
      "metadata": {
        "id": "15_-F62NdDI8"
      },
      "execution_count": 6,
      "outputs": []
    },
    {
      "cell_type": "markdown",
      "source": [
        "5. **OvA Implementation**\n"
      ],
      "metadata": {
        "id": "9fHaT5MidlAI"
      }
    },
    {
      "cell_type": "code",
      "source": [
        "# Build **three binary classifiers**, each distinguishing one class vs. all others.\n",
        "# Use your binary logistic regression optimizer from Part A."
      ],
      "metadata": {
        "id": "ObjD_0qtmgEi"
      },
      "execution_count": null,
      "outputs": []
    },
    {
      "cell_type": "code",
      "source": [
        "def sigmoid(z):\n",
        "    return 1 / (1 + np.exp(-z))\n",
        "\n",
        "def f(X, theta):\n",
        "    return sigmoid(X.dot(theta))\n",
        "\n",
        "def log_likelihood(theta, X, y):\n",
        "    return (y*np.log(f(X, theta) + 1e-6) + (1-y)*np.log(1-f(X, theta) + 1e-6)).mean()\n",
        "\n",
        "def loglik_gradient(theta, X, y):\n",
        "    return np.mean((f(X, theta) - y) * X.T, axis=1)\n",
        "\n",
        "def gradient_descent(X, y, lr=0.01, epochs=10000):\n",
        "    m, n = X.shape\n",
        "    theta = np.zeros(n)\n",
        "    for _ in range(epochs):\n",
        "        y_pred = sigmoid(X @ theta)\n",
        "        gradient = (1/m) * X.T @ (y_pred - y)\n",
        "        theta -= lr * gradient\n",
        "    return theta"
      ],
      "metadata": {
        "id": "i_bfM7xfdSe5"
      },
      "execution_count": 7,
      "outputs": []
    },
    {
      "cell_type": "code",
      "source": [
        "classes = np.unique(y_train)\n",
        "theta_all = {}\n",
        "\n",
        "print(\"Training OvA classifiers...\")\n",
        "for c in classes:\n",
        "    y_binary = (y_train == c).astype(int)\n",
        "    theta_c = gradient_descent(X_train, y_binary)\n",
        "    theta_all[c] = theta_c\n",
        "    print(f\"Trained class {c}\")"
      ],
      "metadata": {
        "colab": {
          "base_uri": "https://localhost:8080/"
        },
        "id": "H8jvtxL1d26D",
        "outputId": "466495d4-9529-4972-987c-5464aaca06d6"
      },
      "execution_count": 8,
      "outputs": [
        {
          "output_type": "stream",
          "name": "stdout",
          "text": [
            "Training OvA classifiers...\n",
            "Trained class 0\n",
            "Trained class 1\n",
            "Trained class 2\n"
          ]
        }
      ]
    },
    {
      "cell_type": "markdown",
      "source": [
        "   * For prediction:\n",
        "\n",
        "     * Compute probabilities from each classifier.\n",
        "     * Assign each observation to the class with the highest predicted probability"
      ],
      "metadata": {
        "id": "SLSCNyIunTKk"
      }
    },
    {
      "cell_type": "code",
      "source": [
        "#Function\n",
        "def predict_ova(X, theta_all):\n",
        "    probs = np.zeros((X.shape[0], len(theta_all)))\n",
        "    for c, theta in theta_all.items():\n",
        "        probs[:, c] = f(X, theta)\n",
        "    return np.argmax(probs, axis=1), probs\n",
        "\n",
        "# Predictions\n",
        "y_pred_train, _ = predict_ova(X_train, theta_all)\n",
        "y_pred_test, _ = predict_ova(X_test, theta_all)"
      ],
      "metadata": {
        "id": "Be7BWd10dSYa"
      },
      "execution_count": 9,
      "outputs": []
    },
    {
      "cell_type": "markdown",
      "source": [
        "   * Report confusion matrix and accuracy."
      ],
      "metadata": {
        "id": "dseboKmTgGii"
      }
    },
    {
      "cell_type": "code",
      "source": [
        "train_acc = accuracy_score(y_train, y_pred_train)\n",
        "test_acc = accuracy_score(y_test, y_pred_test)\n",
        "cm = confusion_matrix(y_test, y_pred_test)\n",
        "\n",
        "#print(f\"Train Accuracy: {train_acc:.4f}\")\n",
        "print(f\"Test Accuracy:  {test_acc:.4f}\")\n",
        "print(\"\\nConfusion Matrix:\")\n",
        "disp = ConfusionMatrixDisplay(confusion_matrix=cm,\n",
        "                              display_labels=[0, 1, 2])\n",
        "disp.plot(cmap='Greys', values_format='d')\n",
        "plt.title(\"Confusion Matrix - Logistic Regression OvA\")\n",
        "plt.show()"
      ],
      "metadata": {
        "colab": {
          "base_uri": "https://localhost:8080/",
          "height": 524
        },
        "id": "5m3R3GoRdSQa",
        "outputId": "8c617f57-7d32-46a4-c6d2-5d0c19d3b4ae"
      },
      "execution_count": 14,
      "outputs": [
        {
          "output_type": "stream",
          "name": "stdout",
          "text": [
            "Test Accuracy:  0.9630\n",
            "\n",
            "Confusion Matrix:\n"
          ]
        },
        {
          "output_type": "display_data",
          "data": {
            "text/plain": [
              "<Figure size 640x480 with 2 Axes>"
            ],
            "image/png": "[encoded data removed]"
          },
          "metadata": {}
        }
      ]
    },
    {
      "cell_type": "markdown",
      "source": [
        "Comment:\n",
        "The OvA model achieved an accuracy of 96.30%, which demonstrates good effectiveness in distinguishing the three wine classes.\n",
        "The confusion matrix shows that almost all observations were correctly classified, with only a small error in class 1.\n",
        "In summary, this model shows good and accurate performance in multiclass prediction."
      ],
      "metadata": {
        "id": "Y0VozK97in14"
      }
    },
    {
      "cell_type": "markdown",
      "source": [
        "6. **Comparison**\n",
        "   * Fit `LogisticRegression(multi_class=\"ovr\")` from sklearn.\n",
        "   * Compare coefficients and accuracy to your own implementation.\n",
        "  "
      ],
      "metadata": {
        "id": "B6zrkr27hNtw"
      }
    },
    {
      "cell_type": "code",
      "source": [
        "#Using Sklearn\n",
        "sk_model = LogisticRegression(multi_class=\"ovr\", max_iter=10000, random_state=20)\n",
        "sk_model.fit(X_train[:, 1:], y_train)\n",
        "y_pred_sk = sk_model.predict(X_test[:, 1:])\n",
        "\n",
        "sk_acc = accuracy_score(y_test, y_pred_sk)\n",
        "\n",
        "print(\"\\nComparison with sklearn:\")\n",
        "print(f\"Custom OvA Logistic Regression Accuracy: {test_acc:.4f}\")\n",
        "print(f\"sklearn LogisticRegression(ovr) Accuracy: {sk_acc:.4f}\")\n",
        "\n",
        "# Compare coefficients\n",
        "for c in classes:\n",
        "    print(f\"\\nClass {c}\")\n",
        "    print(f\"  Our coefficients: {theta_all[c][:5]}\")\n",
        "    print(f\"  Sklearn coef:     {sk_model.coef_[c][:5]}\")"
      ],
      "metadata": {
        "colab": {
          "base_uri": "https://localhost:8080/"
        },
        "id": "24VgvNWOgAEK",
        "outputId": "4fc1082c-6d96-4bb1-827f-c1dd9590b55a"
      },
      "execution_count": 13,
      "outputs": [
        {
          "output_type": "stream",
          "name": "stdout",
          "text": [
            "\n",
            "Comparison with sklearn:\n",
            "Custom OvA Logistic Regression Accuracy: 0.9630\n",
            "sklearn LogisticRegression(ovr) Accuracy: 0.9630\n",
            "\n",
            "Class 0\n",
            "  Our coefficients: [-1.67207354  1.43241178  0.21855973  1.04948935 -1.23933799]\n",
            "  Sklearn coef:     [ 1.11974665  0.13989642  0.81808585 -0.95956191  0.14618081]\n",
            "\n",
            "Class 1\n",
            "  Our coefficients: [-1.17341953 -1.83950597 -1.04007029 -1.24877814  0.58942787]\n",
            "  Sklearn coef:     [-1.32630445 -0.77804247 -0.91608494  0.4281271  -0.06734354]\n",
            "\n",
            "Class 2\n",
            "  Our coefficients: [-2.82972921  0.47496192  0.70681189  0.56169167  0.46883102]\n",
            "  Sklearn coef:     [0.53857279 0.75034606 0.59094583 0.44771088 0.16463422]\n"
          ]
        },
        {
          "output_type": "stream",
          "name": "stderr",
          "text": [
            "/usr/local/lib/python3.12/dist-packages/sklearn/linear_model/_logistic.py:1256: FutureWarning: 'multi_class' was deprecated in version 1.5 and will be removed in 1.7. Use OneVsRestClassifier(LogisticRegression(..)) instead. Leave it to its default value to avoid this warning.\n",
            "  warnings.warn(\n"
          ]
        }
      ]
    },
    {
      "cell_type": "markdown",
      "source": [
        "Comment:\n",
        "\n",
        "It is found that the accuracy value of 0.9630 is the same under both models, whether using OvA or LogisticRegression from Scikit-learn. However, it is observed that the coefficients are different."
      ],
      "metadata": {
        "id": "09ScWYRpjqRg"
      }
    }
  ]
}