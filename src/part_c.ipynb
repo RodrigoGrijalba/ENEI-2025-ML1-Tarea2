{
 "cells": [
  {
   "cell_type": "markdown",
   "id": "53f42be3",
   "metadata": {},
   "source": [
    "# Part C · Multinomial (Softmax) Logistic Regression — From Scratch"
   ]
  },
  {
   "cell_type": "markdown",
   "id": "d9c0c1ec",
   "metadata": {},
   "source": [
    "## 7. Theory"
   ]
  },
  {
   "cell_type": "markdown",
   "id": "316a2fb9",
   "metadata": {},
   "source": [
    "### Derive the gradient of the log-likelihood function for muticlass classification (check the notebook for session 4)"
   ]
  },
  {
   "cell_type": "markdown",
   "id": "ffb95504",
   "metadata": {},
   "source": [
    "### Derivación del Gradiente de la Log-Verosimilitud en Softmax Regression\n",
    "\n",
    "Recordemos que la log-verosimilitud para un conjunto de datos \n",
    "$\\mathcal{D} = \\{(x^{(i)}, y^{(i)})\\}_{i=1}^n$ es\n",
    "\n",
    "$$\n",
    "\\ell(\\theta)\n",
    "= \\sum_{i=1}^n \\theta^\\top_{y^{(i)}} x^{(i)}\n",
    "- \\sum_{i=1}^n \\log \\left( \\sum_{j=1}^K \\exp(\\theta_j^\\top x^{(i)}) \\right).\n",
    "$$\n",
    "\n",
    "donde $\\theta_l \\in \\mathbb{R}^d$ es el vector de parámetros para la clase $l$.\n",
    "\n",
    "---\n",
    "\n",
    "### 1. Derivada del primer término\n",
    "\n",
    "Sea\n",
    "\n",
    "$$\n",
    "T_1(\\theta) = \\sum_{i=1}^n \\theta^\\top_{y^{(i)}} x^{(i)}.\n",
    "$$\n",
    "\n",
    "Al derivar respecto a $\\theta_l$, sólo aportan los ejemplos donde $y^{(i)} = l$:\n",
    "\n",
    "$$\n",
    "\\frac{\\partial T_1}{\\partial \\theta_l}\n",
    "= \\sum_{i=1}^n \\mathbf{1}\\{y^{(i)}=l\\}\\, x^{(i)}.\n",
    "$$\n",
    "\n",
    "---\n",
    "\n",
    "### 2. Derivada del segundo término\n",
    "\n",
    "Sea\n",
    "\n",
    "$$\n",
    "T_2(\\theta) = \\sum_{i=1}^n \\log \\left( \\sum_{j=1}^K \\exp(\\theta_j^\\top x^{(i)}) \\right).\n",
    "$$\n",
    "\n",
    "Usando la regla de la cadena y notando que \n",
    "$\\frac{\\partial}{\\partial \\theta_l}(\\theta_l^\\top x^{(i)}) = x^{(i)}$, tenemos\n",
    "\n",
    "$$\n",
    "\\frac{\\partial}{\\partial \\theta_l}\n",
    "\\log \\left( \\sum_{j=1}^K \\exp(\\theta_j^\\top x^{(i)}) \\right)\n",
    "= \\frac{\\exp(\\theta_l^\\top x^{(i)})}{\\sum_{j} \\exp(\\theta_j^\\top x^{(i)})}\\, x^{(i)}\n",
    "= \\sigma(z^{(i)})_l\\, x^{(i)},\n",
    "$$\n",
    "\n",
    "donde $\\sigma(z^{(i)})_l = p_\\theta(y=l\\mid x^{(i)})$.  \n",
    "\n",
    "Por lo tanto,\n",
    "\n",
    "$$\n",
    "\\frac{\\partial T_2}{\\partial \\theta_l}\n",
    "= \\sum_{i=1}^n \\sigma(z^{(i)})_l\\, x^{(i)}.\n",
    "$$\n",
    "\n",
    "---\n",
    "\n",
    "### 3. Gradiente total\n",
    "\n",
    "Como $\\ell(\\theta) = T_1(\\theta) - T_2(\\theta)$, se tiene\n",
    "\n",
    "$$\n",
    "\\boxed{\n",
    "\\frac{\\partial \\ell(\\theta)}{\\partial \\theta_l}\n",
    "= \\sum_{i=1}^n \\Big( \\mathbf{1}\\{y^{(i)}=l\\} - \\sigma(z^{(i)})_l \\Big)\\, x^{(i)}\n",
    "}.\n",
    "$$\n"
   ]
  },
  {
   "cell_type": "markdown",
   "id": "c554e47a",
   "metadata": {},
   "source": [
    "## 8. Implementation"
   ]
  },
  {
   "cell_type": "code",
   "execution_count": 25,
   "id": "a320611a",
   "metadata": {},
   "outputs": [],
   "source": [
    "import numpy as np\n",
    "import matplotlib.pyplot as plt\n",
    "from sklearn.datasets import load_wine\n",
    "from sklearn.model_selection import train_test_split\n",
    "from sklearn.preprocessing import StandardScaler\n",
    "from sklearn.metrics import accuracy_score, precision_recall_fscore_support, confusion_matrix\n",
    "from sklearn.linear_model import LogisticRegression"
   ]
  },
  {
   "cell_type": "code",
   "execution_count": 26,
   "id": "f7c653ab",
   "metadata": {},
   "outputs": [],
   "source": [
    "def softmax(z):\n",
    "    # Estabilidad numérica\n",
    "    z = z - np.max(z, axis=1, keepdims=True)\n",
    "    exp_z = np.exp(z)\n",
    "    return exp_z / np.sum(exp_z, axis=1, keepdims=True)\n",
    "\n",
    "def compute_log_likelihood(X, y, W):\n",
    "    n = X.shape[0]\n",
    "    scores = X @ W\n",
    "    probs = softmax(scores)\n",
    "    log_likelihood = np.sum(np.log(probs[np.arange(n), y]))\n",
    "    return log_likelihood\n",
    "\n",
    "def gradient_descent(X, y, num_classes, lr=0.1, epochs=5000, tol=1e-6):\n",
    "    n_samples, n_features = X.shape\n",
    "    W = np.zeros((n_features, num_classes))\n",
    "    prev_ll = -np.inf\n",
    "    ll_history = []\n",
    "\n",
    "    for epoch in range(epochs):\n",
    "        scores = X @ W\n",
    "        probs = softmax(scores)\n",
    "        y_onehot = np.zeros_like(probs)\n",
    "        y_onehot[np.arange(n_samples), y] = 1\n",
    "        grad = X.T @ (y_onehot - probs)\n",
    "        W += lr * grad / n_samples\n",
    "\n",
    "        ll = compute_log_likelihood(X, y, W)\n",
    "        ll_history.append(ll)\n",
    "\n",
    "        if np.abs(ll - prev_ll) < tol:\n",
    "            print(f'Convergencia en epoch {epoch}')\n",
    "            break\n",
    "        prev_ll = ll\n",
    "\n",
    "    return W, ll_history\n",
    "\n",
    "def predict(X, W):\n",
    "    scores = X @ W\n",
    "    probs = softmax(scores)\n",
    "    return np.argmax(probs, axis=1)"
   ]
  },
  {
   "cell_type": "code",
   "execution_count": 27,
   "id": "d576277a",
   "metadata": {},
   "outputs": [],
   "source": [
    "data = load_wine()\n",
    "X = data.data\n",
    "y = data.target\n",
    "\n",
    "scaler = StandardScaler()\n",
    "X = scaler.fit_transform(X)\n",
    "\n",
    "X_train, X_test, y_train, y_test = train_test_split(X, y, test_size=0.3, random_state=42, stratify=y)\n",
    "\n",
    "num_classes = len(np.unique(y))\n",
    "num_features = X_train.shape[1]\n",
    "\n",
    "# Entrenar modelo con descenso por gradiente\n",
    "W, ll_history = gradient_descent(X_train, y_train, num_classes, lr=0.1, epochs=10000)"
   ]
  },
  {
   "cell_type": "code",
   "execution_count": 28,
   "id": "34d4c703",
   "metadata": {},
   "outputs": [
    {
     "data": {
      "image/png": "[encoded data removed]",
      "text/plain": [
       "<Figure size 800x500 with 1 Axes>"
      ]
     },
     "metadata": {},
     "output_type": "display_data"
    }
   ],
   "source": [
    "# Graficar convergencia log-likelihood\n",
    "plt.figure(figsize=(8, 5))\n",
    "plt.plot(ll_history)\n",
    "plt.xlabel('Época')\n",
    "plt.ylabel('Log-Likelihood')\n",
    "plt.title('Convergencia de Log-Likelihood (Punto 8)')\n",
    "plt.grid(True)\n",
    "plt.tight_layout()\n",
    "plt.show()"
   ]
  },
  {
   "cell_type": "markdown",
   "id": "5c80145d",
   "metadata": {},
   "source": [
    "## 9. Evaluation"
   ]
  },
  {
   "cell_type": "code",
   "execution_count": 29,
   "id": "c38e20cc",
   "metadata": {},
   "outputs": [
    {
     "name": "stdout",
     "output_type": "stream",
     "text": [
      "=== Punto 8: Evaluación modelo desde cero ===\n",
      "Accuracy: 0.9815\n"
     ]
    }
   ],
   "source": [
    "# Evaluar en test\n",
    "y_pred_test = predict(X_test, W)\n",
    "acc = accuracy_score(y_test, y_pred_test)\n",
    "print(\"=== Punto 8: Evaluación modelo desde cero ===\")\n",
    "print(f\"Accuracy: {acc:.4f}\")\n",
    "\n",
    "precision, recall, f1, _ = precision_recall_fscore_support(y_test, y_pred_test, average=None)\n",
    "cm = confusion_matrix(y_test, y_pred_test)"
   ]
  },
  {
   "cell_type": "code",
   "execution_count": 30,
   "id": "785c5cbc",
   "metadata": {},
   "outputs": [
    {
     "name": "stdout",
     "output_type": "stream",
     "text": [
      "\n",
      "Métricas por clase (modelo propio):\n",
      "Clase 0: Precision=1.0000, Recall=1.0000\n",
      "Clase 1: Precision=1.0000, Recall=0.9524\n",
      "Clase 2: Precision=0.9375, Recall=1.0000\n",
      "\n",
      "Matriz de confusión (modelo propio):\n",
      "[[18  0  0]\n",
      " [ 0 20  1]\n",
      " [ 0  0 15]]\n",
      "\n",
      "Métricas por clase (scikit-learn):\n",
      "Clase 0: Precision=0.9474, Recall=1.0000\n",
      "Clase 1: Precision=1.0000, Recall=0.9524\n",
      "Clase 2: Precision=1.0000, Recall=1.0000\n",
      "\n",
      "Matriz de confusión (scikit-learn):\n",
      "[[18  0  0]\n",
      " [ 1 20  0]\n",
      " [ 0  0 15]]\n",
      "\n",
      "Accuracy (modelo propio): 0.9815\n",
      "Accuracy (scikit-learn): 0.9815\n"
     ]
    },
    {
     "name": "stderr",
     "output_type": "stream",
     "text": [
      "c:\\Users\\JorgeData\\.conda\\envs\\pytest\\Lib\\site-packages\\sklearn\\linear_model\\_logistic.py:1272: FutureWarning: 'multi_class' was deprecated in version 1.5 and will be removed in 1.7. From then on, it will always use 'multinomial'. Leave it to its default value to avoid this warning.\n",
      "  warnings.warn(\n"
     ]
    }
   ],
   "source": [
    "# Comparar con LogisticRegression\n",
    "\n",
    "print(\"\\nMétricas por clase (modelo propio):\")\n",
    "for i, (p, r) in enumerate(zip(precision, recall)):\n",
    "    print(f\"Clase {i}: Precision={p:.4f}, Recall={r:.4f}\")\n",
    "print(\"\\nMatriz de confusión (modelo propio):\")\n",
    "print(cm)\n",
    "\n",
    "clf = LogisticRegression(multi_class=\"multinomial\", solver=\"lbfgs\", max_iter=10000)\n",
    "clf.fit(X_train, y_train)\n",
    "y_pred_sklearn = clf.predict(X_test)\n",
    "\n",
    "acc_sklearn = accuracy_score(y_test, y_pred_sklearn)\n",
    "precision_sklearn, recall_sklearn, _, _ = precision_recall_fscore_support(y_test, y_pred_sklearn, average=None)\n",
    "cm_sklearn = confusion_matrix(y_test, y_pred_sklearn)\n",
    "\n",
    "print(\"\\nMétricas por clase (scikit-learn):\")\n",
    "for i, (p, r) in enumerate(zip(precision_sklearn, recall_sklearn)):\n",
    "    print(f\"Clase {i}: Precision={p:.4f}, Recall={r:.4f}\")\n",
    "print(\"\\nMatriz de confusión (scikit-learn):\")\n",
    "print(cm_sklearn)\n",
    "\n",
    "print(f\"\\nAccuracy (modelo propio): {acc:.4f}\")\n",
    "print(f\"Accuracy (scikit-learn): {acc_sklearn:.4f}\")"
   ]
  }
 ],
 "metadata": {
  "kernelspec": {
   "display_name": "Python 3",
   "language": "python",
   "name": "python3"
  },
  "language_info": {
   "codemirror_mode": {
    "name": "ipython",
    "version": 3
   },
   "file_extension": ".py",
   "mimetype": "text/x-python",
   "name": "python",
   "nbconvert_exporter": "python",
   "pygments_lexer": "ipython3",
   "version": "3.11.13"
  }
 },
 "nbformat": 4,
 "nbformat_minor": 5
}
